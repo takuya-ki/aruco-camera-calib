{
 "cells": [
  {
   "cell_type": "markdown",
   "metadata": {},
   "source": [
    "# camera-calibration"
   ]
  },
  {
   "cell_type": "code",
   "execution_count": 25,
   "metadata": {
    "collapsed": true
   },
   "outputs": [],
   "source": [
    "import cv2\n",
    "from PIL import Image\n",
    "import matplotlib.pyplot as plt\n",
    "import numpy as np\n",
    "np.set_printoptions(precision=3)\n",
    "import glob, os\n",
    "import csv\n",
    "import pickle\n",
    "import json\n",
    "import pandas as pd\n",
    "\n",
    "%matplotlib inline\n",
    "%config InlineBackend.figure_format = 'retina'\n",
    "plt.rcParams['figure.figsize'] = (10.0, 10.0)\n",
    "aruco = cv2.aruco\n",
    "\n",
    "# Create checker board #\n",
    "parameters = aruco.DetectorParameters_create()\n",
    "dictionaryID = aruco.DICT_5X5_100\n",
    "# dictionaryID = aruco.DICT_4X4_250\n",
    "dictionary = aruco.getPredefinedDictionary(dictionaryID)\n",
    "squareL = 0.028\n",
    "markerL = 0.024\n",
    "pixels_per_mm = 10 # for checker board image\n",
    "A4size = (210, 297)\n",
    "tb, lr = [5,5] # minimul margin (height, width) when printing in mm\n",
    "\n",
    "squareNumX, boardSizeX = max_within_upper(squareL*1000, A4size[0]- lr*2 ) # in mm\n",
    "squareNumY, boardSizeY = max_within_upper(squareL*1000, A4size[1]- tb*2 ) # in mm\n",
    "\n",
    "# Calibration #\n",
    "calibration_image_path = \"./calib_pictures/\"\n",
    "image_format = \"jpg\"\n",
    "save_format = \"pickle\""
   ]
  },
  {
   "cell_type": "code",
   "execution_count": 26,
   "metadata": {
    "code_folding": [
     0
    ],
    "collapsed": true
   },
   "outputs": [],
   "source": [
    "def imshow_inline(img_name=\"\", img=None):\n",
    "    if img is None:\n",
    "        if not img_name:\n",
    "            print(\"Give imshow_inline an image name or an image.\")\n",
    "            return -1\n",
    "        else:\n",
    "            img = cv2.imread(img_name)\n",
    "    plt.imshow(cv2.cvtColor(img,cv2.COLOR_BGR2RGB))"
   ]
  },
  {
   "cell_type": "code",
   "execution_count": 27,
   "metadata": {
    "code_folding": [
     0
    ],
    "collapsed": true
   },
   "outputs": [],
   "source": [
    "def get_board_image():\n",
    "    board = aruco.CharucoBoard_create(squareNumX, squareNumY, squareL, markerL, dictionary)\n",
    "    \n",
    "    # The third parameter is the (optional) margin in pixels, so none of the markers are touching the image border.\n",
    "    # Finally, the size of the marker border, similarly to drawMarker() function. The default value is 1.\n",
    "    boardImage = board.draw((boardSizeX*pixels_per_mm, boardSizeY*pixels_per_mm), None, 0, 1) # 10 pixels/mm\n",
    "    return(board, boardImage)"
   ]
  },
  {
   "cell_type": "code",
   "execution_count": 28,
   "metadata": {
    "code_folding": [
     0,
     8,
     16,
     25
    ],
    "collapsed": true
   },
   "outputs": [],
   "source": [
    "def max_within_upper(num, upper):\n",
    "    i = 1\n",
    "    while True:\n",
    "        if num*i > upper:\n",
    "            return ([i-1, int(num*(i-1))])\n",
    "        else:\n",
    "            i += 1\n",
    "\n",
    "def add_margin(pil_img, tb_pixels, lr_pixels):\n",
    "    width, height = pil_img.size\n",
    "    new_width = width + lr_pixels\n",
    "    new_height = height + tb_pixels\n",
    "    result = Image.new(pil_img.mode, (new_width,new_height), (255))\n",
    "    result.paste(pil_img, (int(lr_pixels/2), int(tb_pixels/2)))\n",
    "    return result      \n",
    "\n",
    "def output_board_configparams_to_csv(output_filename):\n",
    "    with open(output_filename, 'w', newline='') as csvfile:\n",
    "        config_writer = csv.writer(csvfile, lineterminator='\\n')\n",
    "        config_writer.writerow(['dictionary ID', dictionaryID])\n",
    "        config_writer.writerow(['square length', squareL])\n",
    "        config_writer.writerow(['marker length', markerL])\n",
    "        config_writer.writerow(['number of squares (x and y)', squareNumX, squareNumY])\n",
    "        config_writer.writerow(['minimul margin (tb and lr)', tb, lr])\n",
    "\n",
    "def create_ChArUco_board_in_A4size(board_name, outcsv=True):\n",
    "    board, boardImage, = get_board_image()\n",
    "    \n",
    "    # Add the margin to the image\n",
    "    tb_pixels = (A4size[1] - boardSizeY) * pixels_per_mm\n",
    "    lr_pixels = (A4size[0] - boardSizeX) * pixels_per_mm\n",
    "    boardImage_margin = np.asarray( add_margin(Image.fromarray(boardImage), tb_pixels, lr_pixels) )\n",
    "    \n",
    "    dirpath_board = \"./board/\"\n",
    "    if not os.path.isdir(dirpath_board):\n",
    "        os.mkdir(dirpath_board)\n",
    "    cv2.imwrite(dirpath_board+board_name, boardImage_margin)\n",
    "    imshow_inline(img_name=dirpath_board+board_name)\n",
    "    \n",
    "    if outcsv:\n",
    "        filename_without_ext = os.path.splitext(board_name)[0]\n",
    "        output_board_configparams_to_csv(dirpath_board+filename_without_ext+'.csv')"
   ]
  },
  {
   "cell_type": "code",
   "execution_count": 29,
   "metadata": {
    "code_folding": [
     0
    ],
    "collapsed": true
   },
   "outputs": [],
   "source": [
    "def get_file_paths(file_dir, file_ext):\n",
    "    path = file_dir + '*.' + file_ext\n",
    "    file_names = [os.path.basename(r) for r in glob.glob(path)]\n",
    "    file_paths = [file_dir+fs for fs in file_names]\n",
    "    print(file_names)\n",
    "    print(file_paths)\n",
    "    return file_paths, file_names"
   ]
  },
  {
   "cell_type": "code",
   "execution_count": 30,
   "metadata": {
    "code_folding": [
     0
    ],
    "collapsed": true
   },
   "outputs": [],
   "source": [
    "def detect_ChArUco_board(image_paths, outimg=True):\n",
    "    for image_path in image_paths:\n",
    "        checkerBoardImage = cv2.imread(image_path)\n",
    "\n",
    "        # Detect ChArUco markers #\n",
    "        markerCorners, markerIds  = [0,0]\n",
    "        markerCorners, markerIds, rejectedImgPoints = aruco.detectMarkers(checkerBoardImage, dictionary)\n",
    "\n",
    "        # Detect the checker board based on the detected marker, and draw the result #\n",
    "        outputImage = checkerBoardImage.copy();\n",
    "        if markerIds is None:\n",
    "            break\n",
    "        if markerIds.size > 0:\n",
    "            charucoCorners, charucoIds = [0,0]\n",
    "            cv2.aruco.drawDetectedMarkers(outputImage, markerCorners, markerIds)\n",
    "            # charucoCorners, charucoIds = aruco.interpolateCornersCharuco(markerCorners, markerIds, checkerBoardImage, board)\n",
    "            # outputImage = aruco.drawDetectedCornersCharuco(outputImage, charucoCorners, charucoIds)\n",
    "\n",
    "        dirpath, file = os.path.split(image_path)\n",
    "        dirpath_results = dirpath+\"/det_results/\"\n",
    "        if not os.path.isdir(dirpath_results):\n",
    "            os.mkdir(dirpath_results)\n",
    "        imshow_inline(img=outputImage)\n",
    "        if outimg:\n",
    "            cv2.imwrite(dirpath_results+file, outputImage)"
   ]
  },
  {
   "cell_type": "code",
   "execution_count": 31,
   "metadata": {
    "code_folding": [
     0
    ],
    "collapsed": true
   },
   "outputs": [],
   "source": [
    "def get_calibration_images(calib_img_paths):\n",
    "    calibImages = []\n",
    "    for calib_img_path in calib_img_paths:\n",
    "        calibImage = cv2.imread(calib_img_path)\n",
    "        if calibImage is None:\n",
    "            break\n",
    "        calibImages.append(calibImage)\n",
    "    return calibImages"
   ]
  },
  {
   "cell_type": "code",
   "execution_count": 32,
   "metadata": {
    "code_folding": [
     0,
     12
    ],
    "collapsed": true
   },
   "outputs": [],
   "source": [
    "def show_calibration_result(calibrate_params):\n",
    "    print(\"####################\")\n",
    "    retval, cameraMatrix, distCoeffs, rvecs, tvecs, stdDeviationsInstrinsics, stdDeviationsExtrinsics, perViewErrors = calibrate_params\n",
    "    print(\"Final re-projection error : \\n\", retval)\n",
    "    print(\"Camera matrix : \\n\", cameraMatrix)\n",
    "    print(\"Vector of distortion coefficients : \\n\", distCoeffs)\n",
    "    print(\"Vector of rotation vectors (see Rodrigues) : \\n\", rvecs)\n",
    "    print(\"Vector of translation vectors : \\n\", tvecs)\n",
    "    print(\"Vector of standard deviations estimated for intrinsic parameters : \\n\", stdDeviationsInstrinsics)\n",
    "    print(\"Vector of standard deviations estimated for extrinsic parameters : \\n\", stdDeviationsExtrinsics)\n",
    "    print(\"Vector of average re-projection errors : \\n\", perViewErrors)\n",
    "\n",
    "def calibrate_with_ChArUco_board(calibImages, param_file_ex='.pkl'):\n",
    "    board, boardImg = get_board_image()\n",
    "\n",
    "    # Detect checker board intersection of ChArUco #\n",
    "    allCharucoCorners = []\n",
    "    allCharucoIds = []\n",
    "    charucoCorners, charucoIds = [0,0]\n",
    "    for calImg in calibImages:\n",
    "        # Find ArUco markers #\n",
    "        res = aruco.detectMarkers(calImg, dictionary)\n",
    "        # Find ChArUco corners #\n",
    "        if len(res[0])>0:\n",
    "            res2 = cv2.aruco.interpolateCornersCharuco(res[0], res[1], calImg, board)\n",
    "            if res2[1] is not None and res2[2] is not None and len(res2[1])>3:\n",
    "                allCharucoCorners.append(res2[1])\n",
    "                allCharucoIds.append(res2[2])\n",
    "\n",
    "            cv2.aruco.drawDetectedMarkers(calImg,res[0],res[1])\n",
    "        img = cv2.resize(calImg, None, fx=0.5, fy=0.5)\n",
    "        # cv2.imshow('calibration image',img)\n",
    "        # cv2.waitKey(0)\n",
    "        \n",
    "    cv2.destroyAllWindows()\n",
    "    \n",
    "    # Calibration and output errors #\n",
    "    try:\n",
    "        imgSize = calibImages[0].shape[:2]\n",
    "        cal = cv2.aruco.calibrateCameraCharucoExtended(allCharucoCorners,allCharucoIds,board,imgSize,None,None)\n",
    "    except:\n",
    "        print(\"can not calibrate ...\")\n",
    "\n",
    "    # show_calibration_result(cal)\n",
    "    retval, cameraMatrix, distCoeffs, rvecs, tvecs, stdDeviationsInstrinsics, stdDeviationsExtrinsics, perViewErrors = cal\n",
    "    tmp = [cameraMatrix, distCoeffs, rvecs, tvecs, stdDeviationsInstrinsics, stdDeviationsExtrinsics]\n",
    "\n",
    "    # Save the camera parameters #\n",
    "    class MyEncoder(json.JSONEncoder):\n",
    "        def default(self, obj):\n",
    "            if isinstance(obj, np.integer):\n",
    "                return int(obj)\n",
    "            elif isinstance(obj, np.floating):\n",
    "                return float(obj)\n",
    "            elif isinstance(obj, np.ndarray):\n",
    "                return obj.tolist()\n",
    "            else:\n",
    "                return super(MyEncoder, self).default(obj)\n",
    "    \n",
    "    fname = \"camera_param\"\n",
    "    if save_format == 'json':\n",
    "        with open(fname+'.json', mode='w') as f:\n",
    "            data = {\"camera_matrix\": cameraMatrix.tolist(), \"dist_coeff\": distCoeffs.tolist(), \"rvecs\": rvecs, \"tvecs\": tvecs}\n",
    "            json.dump(data,f,sort_keys=True,indent=4,cls=MyEncoder)\n",
    "    else:\n",
    "        with open(fname+'.pkl', mode='wb') as f:\n",
    "            pickle.dump(tmp, f, protocol=-1)\n",
    "    \n",
    "    print(\"Saved.\")"
   ]
  },
  {
   "cell_type": "code",
   "execution_count": 33,
   "metadata": {
    "code_folding": [
     0
    ],
    "collapsed": true
   },
   "outputs": [],
   "source": [
    "def undistort(cam_param_path, images):\n",
    "    # Read camera parameters as a pkl file #\n",
    "    with open(cam_param_path, 'rb') as f:\n",
    "        camera_params = pickle.load(f)\n",
    "\n",
    "    cameraMatrix, distCoeffs, rvecs, tvecs, stdDeviationsInstrinsics, stdDeviationsExtrinsics = camera_params\n",
    "\n",
    "    # Writing the camera matrix #\n",
    "    imgSize = images[0].shape[:2]\n",
    "    h,  w = imgSize\n",
    "    newcameramtx, roi=cv2.getOptimalNewCameraMatrix(cameraMatrix,distCoeffs,(w,h),1,(w,h))\n",
    "    print(newcameramtx, roi)\n",
    "\n",
    "    for i, before_undistortImg in enumerate(images):\n",
    "        # Undistort #\n",
    "        dst = cv2.undistort(before_undistortImg, cameraMatrix, distCoeffs, None, newcameramtx)\n",
    "        \n",
    "        # Crop the image #\n",
    "        x,y,w,h = roi\n",
    "        dst = dst[y:y+h, x:x+w]\n",
    "        dirpath = \"./undistort_result/\"\n",
    "        if not os.path.isdir(dirpath):\n",
    "            os.mkdir(dirpath)\n",
    "        cv2.imwrite(dirpath+\"undistorted\"+ str(i+1) +'.png',dst)"
   ]
  },
  {
   "cell_type": "code",
   "execution_count": 34,
   "metadata": {
    "code_folding": [],
    "collapsed": true
   },
   "outputs": [],
   "source": [
    "def main():\n",
    "    calib_img_paths, calib_img_names = get_file_paths(calibration_image_path, 'jpg')\n",
    "    \n",
    "    ## Create a borad ##\n",
    "    # board_name = \"sample_board_\"\n",
    "    # create_ChArUco_board_in_A4size(board_name+'.png')\n",
    "    \n",
    "    ## Detect a board ##\n",
    "    # detect_test_dir = \"./detect_test/\" \n",
    "    # pic_paths, pic_names = get_file_paths(detect_test_dir, 'png')\n",
    "    # detect_ChArUco_board(pic_paths)\n",
    "    \n",
    "    ## Calibration ##\n",
    "    calibrate_with_ChArUco_board(get_calibration_images(calib_img_paths))\n",
    "    \n",
    "    ## Undistort ##\n",
    "    # cam_param_path = \"./camera_param.pkl\"\n",
    "    # undistort(cam_param_path, get_calibration_images(calib_img_paths))"
   ]
  },
  {
   "cell_type": "code",
   "execution_count": 35,
   "metadata": {
    "code_folding": [],
    "collapsed": false,
    "scrolled": false
   },
   "outputs": [
    {
     "name": "stdout",
     "output_type": "stream",
     "text": [
      "['1.jpg', '10.jpg', '11.jpg', '12.jpg', '13.jpg', '14.jpg', '15.jpg', '16.jpg', '17.jpg', '18.jpg', '19.jpg', '2.jpg', '20.jpg', '21.jpg', '22.jpg', '23.jpg', '24.jpg', '25.jpg', '26.jpg', '27.jpg', '28.jpg', '29.jpg', '3.jpg', '30.jpg', '31.jpg', '32.jpg', '33.jpg', '34.jpg', '35.jpg', '36.jpg', '37.jpg', '38.jpg', '39.jpg', '4.jpg', '40.jpg', '41.jpg', '42.jpg', '43.jpg', '44.jpg', '45.jpg', '46.jpg', '47.jpg', '48.jpg', '49.jpg', '5.jpg', '50.jpg', '51.jpg', '52.jpg', '53.jpg', '54.jpg', '55.jpg', '56.jpg', '57.jpg', '58.jpg', '6.jpg', '7.jpg', '8.jpg', '9.jpg']\n",
      "['./calib_pictures/1.jpg', './calib_pictures/10.jpg', './calib_pictures/11.jpg', './calib_pictures/12.jpg', './calib_pictures/13.jpg', './calib_pictures/14.jpg', './calib_pictures/15.jpg', './calib_pictures/16.jpg', './calib_pictures/17.jpg', './calib_pictures/18.jpg', './calib_pictures/19.jpg', './calib_pictures/2.jpg', './calib_pictures/20.jpg', './calib_pictures/21.jpg', './calib_pictures/22.jpg', './calib_pictures/23.jpg', './calib_pictures/24.jpg', './calib_pictures/25.jpg', './calib_pictures/26.jpg', './calib_pictures/27.jpg', './calib_pictures/28.jpg', './calib_pictures/29.jpg', './calib_pictures/3.jpg', './calib_pictures/30.jpg', './calib_pictures/31.jpg', './calib_pictures/32.jpg', './calib_pictures/33.jpg', './calib_pictures/34.jpg', './calib_pictures/35.jpg', './calib_pictures/36.jpg', './calib_pictures/37.jpg', './calib_pictures/38.jpg', './calib_pictures/39.jpg', './calib_pictures/4.jpg', './calib_pictures/40.jpg', './calib_pictures/41.jpg', './calib_pictures/42.jpg', './calib_pictures/43.jpg', './calib_pictures/44.jpg', './calib_pictures/45.jpg', './calib_pictures/46.jpg', './calib_pictures/47.jpg', './calib_pictures/48.jpg', './calib_pictures/49.jpg', './calib_pictures/5.jpg', './calib_pictures/50.jpg', './calib_pictures/51.jpg', './calib_pictures/52.jpg', './calib_pictures/53.jpg', './calib_pictures/54.jpg', './calib_pictures/55.jpg', './calib_pictures/56.jpg', './calib_pictures/57.jpg', './calib_pictures/58.jpg', './calib_pictures/6.jpg', './calib_pictures/7.jpg', './calib_pictures/8.jpg', './calib_pictures/9.jpg']\n",
      "Saved.\n"
     ]
    }
   ],
   "source": [
    "if __name__ == '__main__':\n",
    "    main()"
   ]
  },
  {
   "cell_type": "code",
   "execution_count": 13,
   "metadata": {
    "collapsed": false
   },
   "outputs": [
    {
     "data": {
      "text/plain": [
       "True"
      ]
     },
     "execution_count": 13,
     "metadata": {},
     "output_type": "execute_result"
    }
   ],
   "source": [
    "import cv2\n",
    "aruco = cv2.aruco\n",
    "dictionary = aruco.getPredefinedDictionary(aruco.DICT_4X4_250)\n",
    "marker = aruco.drawMarker(dictionary, 0, 64)\n",
    "cv2.imwrite('0.64.png', marker)\n",
    "marker = aruco.drawMarker(dictionary, 1, 64)\n",
    "cv2.imwrite('1.64.png', marker)\n",
    "marker = aruco.drawMarker(dictionary, 2, 64)\n",
    "cv2.imwrite('2.64.png', marker)\n",
    "marker = aruco.drawMarker(dictionary, 3, 64)\n",
    "cv2.imwrite('3.64.png', marker)\n",
    "marker = aruco.drawMarker(dictionary, 4, 64)\n",
    "cv2.imwrite('4.64.png', marker)\n",
    "marker = aruco.drawMarker(dictionary, 5, 64)\n",
    "cv2.imwrite('5.64.png', marker)\n",
    "marker = aruco.drawMarker(dictionary, 6, 64)\n",
    "cv2.imwrite('6.64.png', marker)"
   ]
  },
  {
   "cell_type": "code",
   "execution_count": null,
   "metadata": {
    "collapsed": true
   },
   "outputs": [],
   "source": []
  },
  {
   "cell_type": "code",
   "execution_count": null,
   "metadata": {
    "collapsed": true
   },
   "outputs": [],
   "source": []
  }
 ],
 "metadata": {
  "kernelspec": {
   "display_name": "Python 3",
   "language": "python",
   "name": "python3"
  },
  "language_info": {
   "codemirror_mode": {
    "name": "ipython",
    "version": 3
   },
   "file_extension": ".py",
   "mimetype": "text/x-python",
   "name": "python",
   "nbconvert_exporter": "python",
   "pygments_lexer": "ipython3",
   "version": "3.6.0"
  }
 },
 "nbformat": 4,
 "nbformat_minor": 2
}
