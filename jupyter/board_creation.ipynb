{
 "nbformat": 4,
 "nbformat_minor": 2,
 "metadata": {
  "language_info": {
   "name": "python",
   "codemirror_mode": {
    "name": "ipython",
    "version": 3
   },
   "version": "3.7.3-final"
  },
  "orig_nbformat": 2,
  "file_extension": ".py",
  "mimetype": "text/x-python",
  "name": "python",
  "npconvert_exporter": "python",
  "pygments_lexer": "ipython3",
  "version": 3,
  "kernelspec": {
   "name": "python37364bitarucoconda6b2f7b77e89c483d9dc7ca73263a40a7",
   "display_name": "Python 3.7.3 64-bit ('aruco': conda)"
  }
 },
 "cells": [
  {
   "cell_type": "markdown",
   "metadata": {},
   "source": [
    "# board_creation\n",
    "\n",
    "- Creating an aruco checker patterned board"
   ]
  },
  {
   "cell_type": "code",
   "execution_count": 1,
   "metadata": {},
   "outputs": [],
   "source": [
    "import cv2\n",
    "from PIL import Image\n",
    "import matplotlib.pyplot as plt\n",
    "import numpy as np\n",
    "import os\n",
    "import csv\n",
    "\n",
    "aruco = cv2.aruco\n",
    "%matplotlib inline\n",
    "%config InlineBackend.figure_format = 'retina'\n",
    "plt.rcParams['figure.figsize'] = (10.0, 10.0)\n",
    "\n",
    "save_board_dirpath = os.path.join(os.getcwd(), \"../board/\")\n",
    "board_filename = \"sample_board\"\n",
    "board_save_format = \".png\"\n",
    "\n",
    "parameters = aruco.DetectorParameters_create()\n",
    "dictionaryID = aruco.DICT_5X5_100\n",
    "dictionary = aruco.getPredefinedDictionary(dictionaryID)\n",
    "squareL = 0.028\n",
    "markerL = 0.024\n",
    "pixels_per_mm = 10 # for checker board image\n",
    "A4size = (210, 297)\n",
    "tb, lr = [5,5] # minimum margin (height, width) when printing in mm"
   ]
  },
  {
   "cell_type": "code",
   "execution_count": 4,
   "metadata": {},
   "outputs": [],
   "source": [
    "def imshow_inline(img_path=\"\", img=None):\n",
    "    if img is None:\n",
    "        if not img_path:\n",
    "            print(\"Give imshow_inline an image path or an image data.\")\n",
    "            return -1\n",
    "        else:\n",
    "            img = cv2.imread(img_path)\n",
    "    plt.imshow(cv2.cvtColor(img, cv2.COLOR_BGR2RGB))\n",
    "\n",
    "\n",
    "def max_within_upper(num, upper):\n",
    "    i = 1\n",
    "    while True:\n",
    "        if num*i > upper:\n",
    "            return ([i-1, int(num*(i-1))])\n",
    "        else:\n",
    "            i += 1\n",
    "\n",
    "# unit: mm\n",
    "squareNumX, boardSizeX = max_within_upper(squareL*1000, \n",
    "                                          A4size[0]- lr*2 )\n",
    "squareNumY, boardSizeY = max_within_upper(squareL*1000, \n",
    "                                          A4size[1]- tb*2 )\n",
    "\n",
    "\n",
    "def get_board_image():\n",
    "    board = aruco.CharucoBoard_create(squareNumX, \n",
    "                                      squareNumY, \n",
    "                                      squareL, \n",
    "                                      markerL, \n",
    "                                      dictionary)\n",
    "    \n",
    "    # The third parameter is the (optional) margin in pixels, \n",
    "    # so none of the markers are touching the image border.\n",
    "    # Finally, the size of the marker border, \n",
    "    # similarly to drawMarker() function. \n",
    "    # The default value is 1.\n",
    "    boardImage = board.draw((boardSizeX*pixels_per_mm, \n",
    "                             boardSizeY*pixels_per_mm), \n",
    "                             None, 0, 1) # 10 pixels/mm\n",
    "    return(board, boardImage)\n",
    "\n",
    "\n",
    "def add_margin(pil_img, tb_pixels, lr_pixels):\n",
    "    width, height = pil_img.size\n",
    "    new_width = width + lr_pixels\n",
    "    new_height = height + tb_pixels\n",
    "    result = Image.new(pil_img.mode, (new_width,new_height), (255))\n",
    "    result.paste(pil_img, (int(lr_pixels/2), int(tb_pixels/2)))\n",
    "    return result\n",
    "\n",
    "\n",
    "def output_board_configs_to_csv(output_filename):\n",
    "    with open(output_filename, 'w', newline='') as csvfile:\n",
    "        config_writer = csv.writer(csvfile, lineterminator='\\n')\n",
    "        config_writer.writerow(['dictionary ID', dictionaryID])\n",
    "        config_writer.writerow(['square length', squareL])\n",
    "        config_writer.writerow(['marker length', markerL])\n",
    "        config_writer.writerow(['number of squares (x and y)', \n",
    "                                squareNumX, squareNumY])\n",
    "        config_writer.writerow(['minimum margin (tb and lr)', \n",
    "                                tb, lr])\n",
    "\n",
    "\n",
    "def create_ChArUco_board_in_A4size(board_name, outcsv=True):\n",
    "    board, boardImage, = get_board_image()\n",
    "    \n",
    "    # add the margin to the image\n",
    "    tb_pixels = (A4size[1] - boardSizeY) * pixels_per_mm\n",
    "    lr_pixels = (A4size[0] - boardSizeX) * pixels_per_mm\n",
    "    boardImage_margin = np.asarray(\n",
    "        add_margin(Image.fromarray(boardImage), \n",
    "                   tb_pixels, lr_pixels))\n",
    "    \n",
    "    if not os.path.isdir(save_board_dirpath):\n",
    "        os.mkdir(save_board_dirpath)\n",
    "    \n",
    "    board_filepath = os.path.join(save_board_dirpath, board_name)\n",
    "    cv2.imwrite(board_filepath, \n",
    "                boardImage_margin)\n",
    "    imshow_inline(img_path=board_filepath)\n",
    "    \n",
    "    if outcsv:\n",
    "        # remove the extention from the board_name\n",
    "        filename = os.path.splitext(board_name)[0]\n",
    "        output_board_configparams_to_csv(\n",
    "            os.path.join(save_board_dirpath, \n",
    "                         filename+'.csv'))\n"
   ]
  },
  {
   "cell_type": "code",
   "execution_count": 5,
   "metadata": {},
   "outputs": [
    {
     "data": {
      "image/png": "[encoded data removed]",
      "text/plain": "<Figure size 432x288 with 1 Axes>"
     },
     "metadata": {
      "image/png": {
       "height": 252,
       "width": 206
      },
      "needs_background": "light"
     },
     "output_type": "display_data"
    }
   ],
   "source": [
    "if __name__ == '__main__':\n",
    "    create_ChArUco_board_in_A4size(board_filename+board_save_format)"
   ]
  }
 ]
}