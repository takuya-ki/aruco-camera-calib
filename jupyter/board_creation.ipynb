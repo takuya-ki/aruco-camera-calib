{
 "nbformat": 4,
 "nbformat_minor": 2,
 "metadata": {
  "language_info": {
   "name": "python",
   "codemirror_mode": {
    "name": "ipython",
    "version": 3
   },
   "version": "3.7.3-final"
  },
  "orig_nbformat": 2,
  "file_extension": ".py",
  "mimetype": "text/x-python",
  "name": "python",
  "npconvert_exporter": "python",
  "pygments_lexer": "ipython3",
  "version": 3,
  "kernelspec": {
   "name": "python37364bitarucoconda6b2f7b77e89c483d9dc7ca73263a40a7",
   "display_name": "Python 3.7.3 64-bit ('aruco': conda)"
  }
 },
 "cells": [
  {
   "cell_type": "markdown",
   "metadata": {},
   "source": [
    "# board_creation\n",
    "\n",
    "- Creating an aruco checker patterned board"
   ]
  },
  {
   "cell_type": "code",
   "execution_count": 4,
   "metadata": {},
   "outputs": [],
   "source": [
    "import cv2\n",
    "from PIL import Image\n",
    "import matplotlib.pyplot as plt\n",
    "import numpy as np\n",
    "import os\n",
    "import csv\n",
    "\n",
    "aruco = cv2.aruco\n",
    "\n",
    "save_board_dir = \"../board/\"\n",
    "board_filename = \"sample_board\"\n",
    "board_save_format = \".png\"\n",
    "\n",
    "parameters = aruco.DetectorParameters_create()\n",
    "dictionaryID = aruco.DICT_5X5_100\n",
    "dictionary = aruco.getPredefinedDictionary(dictionaryID)\n",
    "squareL = 0.028\n",
    "markerL = 0.024\n",
    "pixels_per_mm = 10 # for checker board image\n",
    "A4size = (210, 297)\n",
    "tb, lr = [5,5] # minimum margin (height, width) when printing in mm"
   ]
  },
  {
   "cell_type": "code",
   "execution_count": 5,
   "metadata": {},
   "outputs": [],
   "source": [
    "def imshow_inline(img_name=\"\", img=None):\n",
    "    if img is None:\n",
    "        if not img_name:\n",
    "            print(\"Give imshow_inline an image name or an image.\")\n",
    "            return -1\n",
    "        else:\n",
    "            img = cv2.imread(img_name)\n",
    "    plt.imshow(cv2.cvtColor(img,cv2.COLOR_BGR2RGB))\n",
    "\n",
    "\n",
    "def max_within_upper(num, upper):\n",
    "    i = 1\n",
    "    while True:\n",
    "        if num*i > upper:\n",
    "            return ([i-1, int(num*(i-1))])\n",
    "        else:\n",
    "            i += 1\n",
    "\n",
    "# unit: mm\n",
    "squareNumX, boardSizeX = max_within_upper(squareL*1000, \n",
    "                                          A4size[0]- lr*2 )\n",
    "squareNumY, boardSizeY = max_within_upper(squareL*1000, \n",
    "                                          A4size[1]- tb*2 )\n",
    "\n",
    "\n",
    "def get_board_image():\n",
    "    board = aruco.CharucoBoard_create(squareNumX, \n",
    "                                      squareNumY, \n",
    "                                      squareL, \n",
    "                                      markerL, \n",
    "                                      dictionary)\n",
    "    \n",
    "    # The third parameter is the (optional) margin in pixels, \n",
    "    # so none of the markers are touching the image border.\n",
    "    # Finally, the size of the marker border, \n",
    "    # similarly to drawMarker() function. \n",
    "    # The default value is 1.\n",
    "    boardImage = board.draw((boardSizeX*pixels_per_mm, \n",
    "                             boardSizeY*pixels_per_mm), \n",
    "                             None, 0, 1) # 10 pixels/mm\n",
    "    return(board, boardImage)\n",
    "\n",
    "\n",
    "def add_margin(pil_img, tb_pixels, lr_pixels):\n",
    "    width, height = pil_img.size\n",
    "    new_width = width + lr_pixels\n",
    "    new_height = height + tb_pixels\n",
    "    result = Image.new(pil_img.mode, (new_width,new_height), (255))\n",
    "    result.paste(pil_img, (int(lr_pixels/2), int(tb_pixels/2)))\n",
    "    return result\n",
    "\n",
    "\n",
    "def output_board_configparams_to_csv(output_filename):\n",
    "    with open(output_filename, 'w', newline='') as csvfile:\n",
    "        config_writer = csv.writer(csvfile, lineterminator='\\n')\n",
    "        config_writer.writerow(['dictionary ID', dictionaryID])\n",
    "        config_writer.writerow(['square length', squareL])\n",
    "        config_writer.writerow(['marker length', markerL])\n",
    "        config_writer.writerow(['number of squares (x and y)', \n",
    "                                squareNumX, \n",
    "                                squareNumY])\n",
    "        config_writer.writerow(['minimum margin (tb and lr)', \n",
    "                                tb, lr])\n",
    "\n",
    "\n",
    "def create_ChArUco_board_in_A4size(board_name, outcsv=True):\n",
    "    board, boardImage, = get_board_image()\n",
    "    \n",
    "    # add the margin to the image\n",
    "    tb_pixels = (A4size[1] - boardSizeY) * pixels_per_mm\n",
    "    lr_pixels = (A4size[0] - boardSizeX) * pixels_per_mm\n",
    "    boardImage_margin = np.asarray(add_margin(Image.fromarray(boardImage), \n",
    "                                   tb_pixels, lr_pixels))\n",
    "    \n",
    "    if not os.path.isdir(save_board_dir):\n",
    "        os.mkdir(save_board_dir)\n",
    "    \n",
    "    board_filepath = os.path.join(save_board_dir, board_name)\n",
    "    cv2.imwrite(board_filepath, \n",
    "                boardImage_margin)\n",
    "    imshow_inline(img_name=board_filepath)\n",
    "    \n",
    "    if outcsv:\n",
    "        # remove the extention from the board_name\n",
    "        filename = os.path.splitext(board_name)[0]\n",
    "        output_board_configparams_to_csv(\n",
    "            os.path.join(save_board_dir, filename+'.csv'))\n"
   ]
  },
  {
   "cell_type": "code",
   "execution_count": 6,
   "metadata": {},
   "outputs": [
    {
     "data": {
      "image/png": "[encoded data removed]",
      "image/svg+xml": "<?xml version=\"1.0\" encoding=\"utf-8\" standalone=\"no\"?>\r\n<!DOCTYPE svg PUBLIC \"-//W3C//DTD SVG 1.1//EN\"\r\n  \"http://www.w3.org/Graphics/SVG/1.1/DTD/svg11.dtd\">\r\n<!-- Created with matplotlib (https://matplotlib.org/) -->\r\n<svg height=\"252.280738pt\" version=\"1.1\" viewBox=\"0 0 206.035848 252.280738\" width=\"206.035848pt\" xmlns=\"http://www.w3.org/2000/svg\" xmlns:xlink=\"http://www.w3.org/1999/xlink\">\r\n <defs>\r\n  <style type=\"text/css\">\r\n*{stroke-linecap:butt;stroke-linejoin:round;}\r\n  </style>\r\n </defs>\r\n <g id=\"figure_1\">\r\n  <g id=\"patch_1\">\r\n   <path d=\"M 0 252.280738 \r\nL 206.035848 252.280738 \r\nL 206.035848 0 \r\nL 0 0 \r\nz\r\n\" style=\"fill:none;\"/>\r\n  </g>\r\n  <g id=\"axes_1\">\r\n   <g id=\"patch_2\">\r\n    <path d=\"M 39.65 228.402613 \r\nL 193.395455 228.402613 \r\nL 193.395455 10.962613 \r\nL 39.65 10.962613 \r\nz\r\n\" style=\"fill:#ffffff;\"/>\r\n   </g>\r\n   <g clip-path=\"url(#pbc7eed6be5)\">\r\n    <image height=\"218\" id=\"image357d31cde1\" transform=\"scale(1 -1)translate(0 -218)\" width=\"154\" x=\"39.65\" xlink:href=\"data:image/png;base64,\r\niVBORw0KGgoAAAANSUhEUgAAAJoAAADaCAYAAABep1t7AAAABHNCSVQICAgIfAhkiAAABphJREFUeJzt3dGO4yAMhWF3te//yt2rSGxEgTBwfOj832VnpfFkXZMAwa/3+/0OYLM/2QHgdyDRIEGiQYJEgwSJBom/tQ9fr9fyX7T64ZYY11DFSEWDRLWi7bLq27Nz6o8Y96CiQUJa0Wp636od9xBPlTE6xFOqXb8rRqe4qWiQINEgkT50liXdbX3/iqcXY/awdNeKOytWKhok0ipa6xvmUiFaN9Vu1bd3zbKvKRUNEiQaJNKGztEhM/MmdvSmOjPG1lCePVyWqGiQSJ/eKNUqQ+a3cvR3O1QO52miCCoaREg0SFgNnQ5DUA8xzqGiQUJa0RxvUu+IcQ8qGiSqFW3HN2b1fQMxrqGqjs2hc8UftfsPIcY1dsfI0AkJEg0SQ0+dvZccsndvljGUnHfGtoYZl7ha/9elkXipaJBYOo/m8npXawtS5hzUaNXNvI67fh8VDRIkGiSGhs7eTaHDsDS649VlSG8NkycsMT29jlQ0SCyd3sDPOEwTlVae60FFgwSJBonphwHnlyFcVy9KJ9yCrIyRigaJJSsDLlWihRjXmI2RigYJEg0SzaHT7ea0hhjX2B0jDS0KxLgGDS2QhoYWN8S4BxUNEpZn2Lrs1L2MbuVxiDXCMzYqGiRINEikn2Hr/Cqf23m1Na1TMp3m76hokEg/iM/5Jd+aEx4GLk7xUNEgQaJBIn3o7M1ROTSLKDndYEf4PUB9QkWDRPrKQI/LyTp3TtXijlbX+LVINEikrww8/ZmSSxyznOKnokGChhY3xLgHFQ0SNLQoEOM+NLQIYoygoQW+BIkGifRFdbXMZZkTlt16aGgBa0sqmuO2lAivReU7x339I2bjpqJBgkSDxOPj3y+917schiq3c3Z718ThmvV2PF+f0dAClqZP5XZzwvkYbhW/Z+X5KFQ0SJBokJjuBXXaMOCgd4aH21C/EhUNEkta9LQ+U3GLp8c13tEYmN6AJRINEjS0ECBGGlr8hxjXoKEF0tDQ4oYY96CiQcLqnQF26j43enJ49rWlokGCRINE+tBZuyE9YaiqcYnV8cUXKhok0s+w7e3ezL6Jvf9upyrxieN2IyoaJEg0SKSfYetY5u9Oi9GtMUgEFQ0i6dMbNS4VJLsKPOH+cjIVDRIkGiTSh87skt7iHNvlhMYgEVQ0iJBokKBzyg0x7kFDiwIx7kNDiyDGCBpa4EuQaJB4/DDguiwzM7Q4NLRwu46llQ04qGiQeFzRWgfxue31P3VnrPM5u7PXkYoGCRINEtMNLZ783MEJQ7nDLUjv7fbZeKhokCDRIDG9qL7yiWSFXkl3ncNyu+0YPTmAzimwNF3R3L6JNaP9oTI5jwyjTTdGUNEgQaJB4mvaKNa4dieJOOOlkpXXj4oGCRpaCBAjFQ0idE4pEOMatRhpaHFDjHswdEKCRINE+iEvzka3VjtswS45biCgokHC6vh3x29iRH9LjGuMnGGLX4dEgwQPAw2tPWwu77C2YnMY0i9UNEikN7To/czt2+kWzymoaJAg0SCRPo9WcnhTu9RadHaJcfTlluwhn4oGCfuHgUwucTzluHpBRYMEiQYJGlrcEOMeNLQoEOM+DJ2QoHNKEGMEnVPwJZY0tHDYGTt6bHn2fNLdCcfol2b/r6lokCDRIDHdOcXN6LHlmcPSCfNfu17EoaJBYskZtg7nw67sxLZL7wHKreKtfPCjokGCRIPE0kV11weFCL95tJPm+kqzt0lUNEhMrwzUPnP5JjruMI0Yn1pxWRmgMSyOQ6JB4itXBlz1YnT4G3bFSEWDBA0tBIiRigYRGloUiHENGloMIMY9GDohQaJBwuoMW7elrEtvD5ZD3A4vCLVQ0SCRXtFOeE3OqTLcjR4WeOEgPnw1Eg0S6UNnyWGYHOWyZ6wWw+hLJUpUNEhYncrtqla9HKpYxPhO3WxUNEiQaJCwehhwOB+jNPoijsNDzOjqRRYqGiRoaNEwGodDvO7vI1DRIEGiQYKGFjfEuAcNLQrEuA9DJyRoaBHEGEFDC3yJoYeB3rcpe47mE6cdphHj19Hl5PDRQ/c4wxY2SDRITB9b1Tu+3KHk/+Tf7Va7jg6L87sW4qlokBiqaKNZ7vJNbH2WOavei/GKzbnqcio3rJFokJheVHduDNuKwXke7eI6LxnB8e8w93hlwGH2umY0Bue4Hbb/7Hq1kIoGCRINEo/n0VqfncBhXmr25wq7YqCiQYKGFgLESEWDyOt9wtcNx6OiQYJEgwSJBgkSDRIkGiT+AUS3DSU7S93/AAAAAElFTkSuQmCC\" y=\"-10.402613\"/>\r\n   </g>\r\n   <g id=\"matplotlib.axis_1\">\r\n    <g id=\"xtick_1\">\r\n     <g id=\"line2d_1\">\r\n      <defs>\r\n       <path d=\"M 0 0 \r\nL 0 3.5 \r\n\" id=\"m69ee1f7f49\" style=\"stroke:#000000;stroke-width:0.8;\"/>\r\n      </defs>\r\n      <g>\r\n       <use style=\"stroke:#000000;stroke-width:0.8;\" x=\"39.686606\" xlink:href=\"#m69ee1f7f49\" y=\"228.402613\"/>\r\n      </g>\r\n     </g>\r\n     <g id=\"text_1\">\r\n      <!-- 0 -->\r\n      <defs>\r\n       <path d=\"M 31.78125 66.40625 \r\nQ 24.171875 66.40625 20.328125 58.90625 \r\nQ 16.5 51.421875 16.5 36.375 \r\nQ 16.5 21.390625 20.328125 13.890625 \r\nQ 24.171875 6.390625 31.78125 6.390625 \r\nQ 39.453125 6.390625 43.28125 13.890625 \r\nQ 47.125 21.390625 47.125 36.375 \r\nQ 47.125 51.421875 43.28125 58.90625 \r\nQ 39.453125 66.40625 31.78125 66.40625 \r\nz\r\nM 31.78125 74.21875 \r\nQ 44.046875 74.21875 50.515625 64.515625 \r\nQ 56.984375 54.828125 56.984375 36.375 \r\nQ 56.984375 17.96875 50.515625 8.265625 \r\nQ 44.046875 -1.421875 31.78125 -1.421875 \r\nQ 19.53125 -1.421875 13.0625 8.265625 \r\nQ 6.59375 17.96875 6.59375 36.375 \r\nQ 6.59375 54.828125 13.0625 64.515625 \r\nQ 19.53125 74.21875 31.78125 74.21875 \r\nz\r\n\" id=\"DejaVuSans-48\"/>\r\n      </defs>\r\n      <g transform=\"translate(36.505356 243.00105)scale(0.1 -0.1)\">\r\n       <use xlink:href=\"#DejaVuSans-48\"/>\r\n      </g>\r\n     </g>\r\n    </g>\r\n    <g id=\"xtick_2\">\r\n     <g id=\"line2d_2\">\r\n      <g>\r\n       <use style=\"stroke:#000000;stroke-width:0.8;\" x=\"76.292667\" xlink:href=\"#m69ee1f7f49\" y=\"228.402613\"/>\r\n      </g>\r\n     </g>\r\n     <g id=\"text_2\">\r\n      <!-- 500 -->\r\n      <defs>\r\n       <path d=\"M 10.796875 72.90625 \r\nL 49.515625 72.90625 \r\nL 49.515625 64.59375 \r\nL 19.828125 64.59375 \r\nL 19.828125 46.734375 \r\nQ 21.96875 47.46875 24.109375 47.828125 \r\nQ 26.265625 48.1875 28.421875 48.1875 \r\nQ 40.625 48.1875 47.75 41.5 \r\nQ 54.890625 34.8125 54.890625 23.390625 \r\nQ 54.890625 11.625 47.5625 5.09375 \r\nQ 40.234375 -1.421875 26.90625 -1.421875 \r\nQ 22.3125 -1.421875 17.546875 -0.640625 \r\nQ 12.796875 0.140625 7.71875 1.703125 \r\nL 7.71875 11.625 \r\nQ 12.109375 9.234375 16.796875 8.0625 \r\nQ 21.484375 6.890625 26.703125 6.890625 \r\nQ 35.15625 6.890625 40.078125 11.328125 \r\nQ 45.015625 15.765625 45.015625 23.390625 \r\nQ 45.015625 31 40.078125 35.4375 \r\nQ 35.15625 39.890625 26.703125 39.890625 \r\nQ 22.75 39.890625 18.8125 39.015625 \r\nQ 14.890625 38.140625 10.796875 36.28125 \r\nz\r\n\" id=\"DejaVuSans-53\"/>\r\n      </defs>\r\n      <g transform=\"translate(66.748917 243.00105)scale(0.1 -0.1)\">\r\n       <use xlink:href=\"#DejaVuSans-53\"/>\r\n       <use x=\"63.623047\" xlink:href=\"#DejaVuSans-48\"/>\r\n       <use x=\"127.246094\" xlink:href=\"#DejaVuSans-48\"/>\r\n      </g>\r\n     </g>\r\n    </g>\r\n    <g id=\"xtick_3\">\r\n     <g id=\"line2d_3\">\r\n      <g>\r\n       <use style=\"stroke:#000000;stroke-width:0.8;\" x=\"112.898727\" xlink:href=\"#m69ee1f7f49\" y=\"228.402613\"/>\r\n      </g>\r\n     </g>\r\n     <g id=\"text_3\">\r\n      <!-- 1000 -->\r\n      <defs>\r\n       <path d=\"M 12.40625 8.296875 \r\nL 28.515625 8.296875 \r\nL 28.515625 63.921875 \r\nL 10.984375 60.40625 \r\nL 10.984375 69.390625 \r\nL 28.421875 72.90625 \r\nL 38.28125 72.90625 \r\nL 38.28125 8.296875 \r\nL 54.390625 8.296875 \r\nL 54.390625 0 \r\nL 12.40625 0 \r\nz\r\n\" id=\"DejaVuSans-49\"/>\r\n      </defs>\r\n      <g transform=\"translate(100.173727 243.00105)scale(0.1 -0.1)\">\r\n       <use xlink:href=\"#DejaVuSans-49\"/>\r\n       <use x=\"63.623047\" xlink:href=\"#DejaVuSans-48\"/>\r\n       <use x=\"127.246094\" xlink:href=\"#DejaVuSans-48\"/>\r\n       <use x=\"190.869141\" xlink:href=\"#DejaVuSans-48\"/>\r\n      </g>\r\n     </g>\r\n    </g>\r\n    <g id=\"xtick_4\">\r\n     <g id=\"line2d_4\">\r\n      <g>\r\n       <use style=\"stroke:#000000;stroke-width:0.8;\" x=\"149.504788\" xlink:href=\"#m69ee1f7f49\" y=\"228.402613\"/>\r\n      </g>\r\n     </g>\r\n     <g id=\"text_4\">\r\n      <!-- 1500 -->\r\n      <g transform=\"translate(136.779788 243.00105)scale(0.1 -0.1)\">\r\n       <use xlink:href=\"#DejaVuSans-49\"/>\r\n       <use x=\"63.623047\" xlink:href=\"#DejaVuSans-53\"/>\r\n       <use x=\"127.246094\" xlink:href=\"#DejaVuSans-48\"/>\r\n       <use x=\"190.869141\" xlink:href=\"#DejaVuSans-48\"/>\r\n      </g>\r\n     </g>\r\n    </g>\r\n    <g id=\"xtick_5\">\r\n     <g id=\"line2d_5\">\r\n      <g>\r\n       <use style=\"stroke:#000000;stroke-width:0.8;\" x=\"186.110848\" xlink:href=\"#m69ee1f7f49\" y=\"228.402613\"/>\r\n      </g>\r\n     </g>\r\n     <g id=\"text_5\">\r\n      <!-- 2000 -->\r\n      <defs>\r\n       <path d=\"M 19.1875 8.296875 \r\nL 53.609375 8.296875 \r\nL 53.609375 0 \r\nL 7.328125 0 \r\nL 7.328125 8.296875 \r\nQ 12.9375 14.109375 22.625 23.890625 \r\nQ 32.328125 33.6875 34.8125 36.53125 \r\nQ 39.546875 41.84375 41.421875 45.53125 \r\nQ 43.3125 49.21875 43.3125 52.78125 \r\nQ 43.3125 58.59375 39.234375 62.25 \r\nQ 35.15625 65.921875 28.609375 65.921875 \r\nQ 23.96875 65.921875 18.8125 64.3125 \r\nQ 13.671875 62.703125 7.8125 59.421875 \r\nL 7.8125 69.390625 \r\nQ 13.765625 71.78125 18.9375 73 \r\nQ 24.125 74.21875 28.421875 74.21875 \r\nQ 39.75 74.21875 46.484375 68.546875 \r\nQ 53.21875 62.890625 53.21875 53.421875 \r\nQ 53.21875 48.921875 51.53125 44.890625 \r\nQ 49.859375 40.875 45.40625 35.40625 \r\nQ 44.1875 33.984375 37.640625 27.21875 \r\nQ 31.109375 20.453125 19.1875 8.296875 \r\nz\r\n\" id=\"DejaVuSans-50\"/>\r\n      </defs>\r\n      <g transform=\"translate(173.385848 243.00105)scale(0.1 -0.1)\">\r\n       <use xlink:href=\"#DejaVuSans-50\"/>\r\n       <use x=\"63.623047\" xlink:href=\"#DejaVuSans-48\"/>\r\n       <use x=\"127.246094\" xlink:href=\"#DejaVuSans-48\"/>\r\n       <use x=\"190.869141\" xlink:href=\"#DejaVuSans-48\"/>\r\n      </g>\r\n     </g>\r\n    </g>\r\n   </g>\r\n   <g id=\"matplotlib.axis_2\">\r\n    <g id=\"ytick_1\">\r\n     <g id=\"line2d_6\">\r\n      <defs>\r\n       <path d=\"M 0 0 \r\nL -3.5 0 \r\n\" id=\"m3bb17556da\" style=\"stroke:#000000;stroke-width:0.8;\"/>\r\n      </defs>\r\n      <g>\r\n       <use style=\"stroke:#000000;stroke-width:0.8;\" x=\"39.65\" xlink:href=\"#m3bb17556da\" y=\"10.999219\"/>\r\n      </g>\r\n     </g>\r\n     <g id=\"text_6\">\r\n      <!-- 0 -->\r\n      <g transform=\"translate(26.2875 14.798437)scale(0.1 -0.1)\">\r\n       <use xlink:href=\"#DejaVuSans-48\"/>\r\n      </g>\r\n     </g>\r\n    </g>\r\n    <g id=\"ytick_2\">\r\n     <g id=\"line2d_7\">\r\n      <g>\r\n       <use style=\"stroke:#000000;stroke-width:0.8;\" x=\"39.65\" xlink:href=\"#m3bb17556da\" y=\"47.605279\"/>\r\n      </g>\r\n     </g>\r\n     <g id=\"text_7\">\r\n      <!-- 500 -->\r\n      <g transform=\"translate(13.5625 51.404498)scale(0.1 -0.1)\">\r\n       <use xlink:href=\"#DejaVuSans-53\"/>\r\n       <use x=\"63.623047\" xlink:href=\"#DejaVuSans-48\"/>\r\n       <use x=\"127.246094\" xlink:href=\"#DejaVuSans-48\"/>\r\n      </g>\r\n     </g>\r\n    </g>\r\n    <g id=\"ytick_3\">\r\n     <g id=\"line2d_8\">\r\n      <g>\r\n       <use style=\"stroke:#000000;stroke-width:0.8;\" x=\"39.65\" xlink:href=\"#m3bb17556da\" y=\"84.21134\"/>\r\n      </g>\r\n     </g>\r\n     <g id=\"text_8\">\r\n      <!-- 1000 -->\r\n      <g transform=\"translate(7.2 88.010559)scale(0.1 -0.1)\">\r\n       <use xlink:href=\"#DejaVuSans-49\"/>\r\n       <use x=\"63.623047\" xlink:href=\"#DejaVuSans-48\"/>\r\n       <use x=\"127.246094\" xlink:href=\"#DejaVuSans-48\"/>\r\n       <use x=\"190.869141\" xlink:href=\"#DejaVuSans-48\"/>\r\n      </g>\r\n     </g>\r\n    </g>\r\n    <g id=\"ytick_4\">\r\n     <g id=\"line2d_9\">\r\n      <g>\r\n       <use style=\"stroke:#000000;stroke-width:0.8;\" x=\"39.65\" xlink:href=\"#m3bb17556da\" y=\"120.817401\"/>\r\n      </g>\r\n     </g>\r\n     <g id=\"text_9\">\r\n      <!-- 1500 -->\r\n      <g transform=\"translate(7.2 124.616619)scale(0.1 -0.1)\">\r\n       <use xlink:href=\"#DejaVuSans-49\"/>\r\n       <use x=\"63.623047\" xlink:href=\"#DejaVuSans-53\"/>\r\n       <use x=\"127.246094\" xlink:href=\"#DejaVuSans-48\"/>\r\n       <use x=\"190.869141\" xlink:href=\"#DejaVuSans-48\"/>\r\n      </g>\r\n     </g>\r\n    </g>\r\n    <g id=\"ytick_5\">\r\n     <g id=\"line2d_10\">\r\n      <g>\r\n       <use style=\"stroke:#000000;stroke-width:0.8;\" x=\"39.65\" xlink:href=\"#m3bb17556da\" y=\"157.423461\"/>\r\n      </g>\r\n     </g>\r\n     <g id=\"text_10\">\r\n      <!-- 2000 -->\r\n      <g transform=\"translate(7.2 161.22268)scale(0.1 -0.1)\">\r\n       <use xlink:href=\"#DejaVuSans-50\"/>\r\n       <use x=\"63.623047\" xlink:href=\"#DejaVuSans-48\"/>\r\n       <use x=\"127.246094\" xlink:href=\"#DejaVuSans-48\"/>\r\n       <use x=\"190.869141\" xlink:href=\"#DejaVuSans-48\"/>\r\n      </g>\r\n     </g>\r\n    </g>\r\n    <g id=\"ytick_6\">\r\n     <g id=\"line2d_11\">\r\n      <g>\r\n       <use style=\"stroke:#000000;stroke-width:0.8;\" x=\"39.65\" xlink:href=\"#m3bb17556da\" y=\"194.029522\"/>\r\n      </g>\r\n     </g>\r\n     <g id=\"text_11\">\r\n      <!-- 2500 -->\r\n      <g transform=\"translate(7.2 197.828741)scale(0.1 -0.1)\">\r\n       <use xlink:href=\"#DejaVuSans-50\"/>\r\n       <use x=\"63.623047\" xlink:href=\"#DejaVuSans-53\"/>\r\n       <use x=\"127.246094\" xlink:href=\"#DejaVuSans-48\"/>\r\n       <use x=\"190.869141\" xlink:href=\"#DejaVuSans-48\"/>\r\n      </g>\r\n     </g>\r\n    </g>\r\n   </g>\r\n   <g id=\"patch_3\">\r\n    <path d=\"M 39.65 228.402613 \r\nL 39.65 10.962613 \r\n\" style=\"fill:none;stroke:#000000;stroke-linecap:square;stroke-linejoin:miter;stroke-width:0.8;\"/>\r\n   </g>\r\n   <g id=\"patch_4\">\r\n    <path d=\"M 193.395455 228.402613 \r\nL 193.395455 10.962613 \r\n\" style=\"fill:none;stroke:#000000;stroke-linecap:square;stroke-linejoin:miter;stroke-width:0.8;\"/>\r\n   </g>\r\n   <g id=\"patch_5\">\r\n    <path d=\"M 39.65 228.402613 \r\nL 193.395455 228.402613 \r\n\" style=\"fill:none;stroke:#000000;stroke-linecap:square;stroke-linejoin:miter;stroke-width:0.8;\"/>\r\n   </g>\r\n   <g id=\"patch_6\">\r\n    <path d=\"M 39.65 10.962613 \r\nL 193.395455 10.962613 \r\n\" style=\"fill:none;stroke:#000000;stroke-linecap:square;stroke-linejoin:miter;stroke-width:0.8;\"/>\r\n   </g>\r\n  </g>\r\n </g>\r\n <defs>\r\n  <clipPath id=\"pbc7eed6be5\">\r\n   <rect height=\"217.44\" width=\"153.745455\" x=\"39.65\" y=\"10.962613\"/>\r\n  </clipPath>\r\n </defs>\r\n</svg>\r\n",
      "text/plain": "<Figure size 432x288 with 1 Axes>"
     },
     "metadata": {
      "needs_background": "light"
     },
     "output_type": "display_data"
    }
   ],
   "source": [
    "if __name__ == '__main__':\n",
    "    create_ChArUco_board_in_A4size(board_filename+board_save_format)"
   ]
  },
  {
   "cell_type": "code",
   "execution_count": null,
   "metadata": {},
   "outputs": [],
   "source": []
  }
 ]
}