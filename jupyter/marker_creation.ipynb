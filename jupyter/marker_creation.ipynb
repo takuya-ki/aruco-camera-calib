{
 "cells": [
  {
   "cell_type": "markdown",
   "metadata": {},
   "source": [
    "# marker_creation\n",
    "\n",
    "- Creating an aruco markers\n",
    "- **NOTE:** The marker files saved in ../markers are deleted"
   ]
  },
  {
   "cell_type": "code",
   "execution_count": 2,
   "metadata": {},
   "outputs": [],
   "source": [
    "import os\n",
    "import cv2\n",
    "import glob\n",
    "import os.path as osp\n",
    "\n",
    "aruco = cv2.aruco\n",
    "dictionary = aruco.getPredefinedDictionary(\n",
    "    aruco.DICT_4X4_250)\n",
    "num_of_pixels = 64\n",
    "num_of_markers = 5\n",
    "marker_savedirpath = osp.join(\n",
    "    os.getcwd(), \"../markers\")"
   ]
  },
  {
   "cell_type": "code",
   "execution_count": 3,
   "metadata": {},
   "outputs": [
    {
     "name": "stdout",
     "output_type": "stream",
     "text": [
      "['0.64.png', '1.64.png', '2.64.png', '3.64.png', '4.64.png']\n"
     ]
    }
   ],
   "source": [
    "def get_file_paths(file_dirpath, file_ext):\n",
    "    path = osp.join(file_dirpath, '*.'+file_ext)\n",
    "    file_names = [osp.basename(r) for r in glob.glob(path)]\n",
    "    file_paths = [osp.join(file_dirpath, fs) for fs in file_names]\n",
    "    print(file_names)\n",
    "    return file_paths, file_names\n",
    "\n",
    "\n",
    "if __name__ == '__main__':\n",
    "    # delete files under save dir\n",
    "    if osp.exists(marker_savedirpath):\n",
    "        marker_paths, marker_names = get_file_paths(marker_savedirpath, '*')\n",
    "        [os.remove(mpath) for mpath in marker_paths]\n",
    "\n",
    "    # make save dir\n",
    "    os.makedirs(marker_savedirpath, exist_ok=True)\n",
    "\n",
    "    # generate into save dir\n",
    "    for i in range(num_of_markers):\n",
    "        marker = aruco.drawMarker(\n",
    "            dictionary, i, num_of_pixels)\n",
    "        cv2.imwrite(osp.join(\n",
    "            marker_savedirpath,\n",
    "            str(i)+'.'+str(num_of_pixels)+'.png'),\n",
    "            marker)"
   ]
  },
  {
   "cell_type": "code",
   "execution_count": null,
   "metadata": {},
   "outputs": [],
   "source": []
  }
 ],
 "metadata": {
  "file_extension": ".py",
  "interpreter": {
   "hash": "908364ac43195f4030cb503e30a4fc0b80a1c2491841d47e2282fa148ff4479e"
  },
  "kernelspec": {
   "display_name": "Python 3.7.3 64-bit ('aruco': conda)",
   "language": "python",
   "name": "python3"
  },
  "language_info": {
   "codemirror_mode": {
    "name": "ipython",
    "version": 3
   },
   "file_extension": ".py",
   "mimetype": "text/x-python",
   "name": "python",
   "nbconvert_exporter": "python",
   "pygments_lexer": "ipython3",
   "version": "3.7.3"
  },
  "mimetype": "text/x-python",
  "name": "python",
  "npconvert_exporter": "python",
  "orig_nbformat": 2,
  "pygments_lexer": "ipython3",
  "version": 3
 },
 "nbformat": 4,
 "nbformat_minor": 2
}
