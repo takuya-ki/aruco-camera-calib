{
 "nbformat": 4,
 "nbformat_minor": 2,
 "metadata": {
  "language_info": {
   "name": "python",
   "codemirror_mode": {
    "name": "ipython",
    "version": 3
   },
   "version": "3.7.3-final"
  },
  "orig_nbformat": 2,
  "file_extension": ".py",
  "mimetype": "text/x-python",
  "name": "python",
  "npconvert_exporter": "python",
  "pygments_lexer": "ipython3",
  "version": 3,
  "kernelspec": {
   "name": "python37364bitarucoconda6b2f7b77e89c483d9dc7ca73263a40a7",
   "display_name": "Python 3.7.3 64-bit ('aruco': conda)"
  }
 },
 "cells": [
  {
   "cell_type": "markdown",
   "metadata": {},
   "source": [
    "# marker_creation\n",
    "\n",
    "- Creating an aruco markers\n",
    "- **NOTE:** After executing this, the old markers in ../markers are deleted"
   ]
  },
  {
   "cell_type": "code",
   "execution_count": 1,
   "metadata": {},
   "outputs": [],
   "source": [
    "import os\n",
    "import glob\n",
    "import cv2\n",
    "\n",
    "\n",
    "aruco = cv2.aruco\n",
    "dictionary = aruco.getPredefinedDictionary(aruco.DICT_4X4_250)\n",
    "number_of_pixels = 64\n",
    "number_of_markers_you_want = 5\n",
    "marker_savedirpath = os.path.join(os.getcwd(), \"../markers\")"
   ]
  },
  {
   "cell_type": "code",
   "execution_count": 2,
   "metadata": {},
   "outputs": [
    {
     "name": "stdout",
     "output_type": "stream",
     "text": "['0.64.png', '1.64.png', '2.64.png', '3.64.png', '4.64.png']\n"
    }
   ],
   "source": [
    "def get_file_paths(file_dirpath, file_ext):\n",
    "    path = os.path.join(file_dirpath, '*.'+file_ext)\n",
    "    file_names = [os.path.basename(r) for r in glob.glob(path)]\n",
    "    file_paths = [os.path.join(file_dirpath, fs) \\\n",
    "                    for fs in file_names]\n",
    "    print(file_names)\n",
    "    return file_paths, file_names\n",
    "\n",
    "\n",
    "if __name__ == '__main__':\n",
    "\n",
    "    # delete files under save dir\n",
    "    if os.path.exists(marker_savedirpath):\n",
    "        marker_filepaths, marker_filenames = \\\n",
    "            get_file_paths(marker_savedirpath, '*')\n",
    "        [os.remove(mpath) for mpath in marker_filepaths]\n",
    "\n",
    "    # make save dir\n",
    "    os.makedirs(marker_savedirpath, \n",
    "                exist_ok=True)\n",
    "\n",
    "    # generate into save dir\n",
    "    for i in range(number_of_markers_you_want):\n",
    "        marker = aruco.drawMarker(dictionary, i, \n",
    "                                  number_of_pixels)\n",
    "        cv2.imwrite(os.path.join(marker_savedirpath, \\\n",
    "                                 str(i)+'.'+ \\\n",
    "                                 str(number_of_pixels)+ \\\n",
    "                                 '.png'), marker)"
   ]
  },
  {
   "cell_type": "code",
   "execution_count": null,
   "metadata": {},
   "outputs": [],
   "source": []
  }
 ]
}